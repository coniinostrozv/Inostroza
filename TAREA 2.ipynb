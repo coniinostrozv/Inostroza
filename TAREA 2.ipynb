{
  "nbformat": 4,
  "nbformat_minor": 0,
  "metadata": {
    "colab": {
      "provenance": []
    },
    "kernelspec": {
      "name": "python3",
      "display_name": "Python 3"
    },
    "language_info": {
      "name": "python"
    }
  },
  "cells": [
    {
      "cell_type": "code",
      "execution_count": 2,
      "metadata": {
        "colab": {
          "base_uri": "https://localhost:8080/"
        },
        "id": "3uep2iExi4yn",
        "outputId": "2646a48b-b6bd-49d1-dbf5-db98847ab49b"
      },
      "outputs": [
        {
          "output_type": "stream",
          "name": "stdout",
          "text": [
            "1\n",
            "2\n",
            "3\n",
            "4\n",
            "5\n",
            "6\n",
            "7\n",
            "8\n",
            "9\n",
            "10\n",
            "11\n",
            "12\n",
            "13\n",
            "14\n",
            "15\n",
            "16\n",
            "17\n",
            "18\n",
            "19\n",
            "20\n",
            "21\n",
            "22\n",
            "23\n",
            "24\n",
            "25\n",
            "26\n",
            "27\n",
            "28\n",
            "29\n",
            "30\n",
            "31\n",
            "32\n",
            "33\n",
            "34\n",
            "35\n",
            "36\n",
            "37\n",
            "38\n",
            "39\n",
            "40\n",
            "41\n",
            "42\n",
            "43\n",
            "44\n",
            "45\n",
            "46\n",
            "47\n",
            "48\n",
            "49\n",
            "50\n",
            "51\n",
            "52\n",
            "53\n",
            "54\n",
            "55\n",
            "56\n",
            "57\n",
            "58\n",
            "59\n",
            "60\n",
            "61\n",
            "62\n",
            "63\n",
            "64\n",
            "65\n",
            "66\n",
            "67\n",
            "68\n",
            "69\n",
            "70\n",
            "71\n",
            "72\n",
            "73\n",
            "74\n",
            "75\n",
            "76\n",
            "77\n",
            "78\n",
            "79\n",
            "80\n",
            "81\n",
            "82\n",
            "83\n",
            "84\n",
            "85\n",
            "86\n",
            "87\n",
            "88\n",
            "89\n",
            "90\n",
            "91\n",
            "92\n",
            "93\n",
            "94\n",
            "95\n",
            "96\n",
            "97\n",
            "98\n",
            "99\n",
            "100\n"
          ]
        }
      ],
      "source": [
        "# Imprimir números del 1 al 100\n",
        "for i in range(1, 101):\n",
        "    print(i)\n"
      ]
    },
    {
      "cell_type": "code",
      "source": [
        "# Imprimir números del 1 al 100 divisibles entre 3\n",
        "for i in range(1, 101):\n",
        "    if i % 3 == 0:  # Verificar si el número es divisible entre 3\n",
        "        print(i)\n"
      ],
      "metadata": {
        "colab": {
          "base_uri": "https://localhost:8080/"
        },
        "id": "tX_hUlmXi_B5",
        "outputId": "2c936e7e-de70-42a0-b891-aad5e3221440"
      },
      "execution_count": 3,
      "outputs": [
        {
          "output_type": "stream",
          "name": "stdout",
          "text": [
            "3\n",
            "6\n",
            "9\n",
            "12\n",
            "15\n",
            "18\n",
            "21\n",
            "24\n",
            "27\n",
            "30\n",
            "33\n",
            "36\n",
            "39\n",
            "42\n",
            "45\n",
            "48\n",
            "51\n",
            "54\n",
            "57\n",
            "60\n",
            "63\n",
            "66\n",
            "69\n",
            "72\n",
            "75\n",
            "78\n",
            "81\n",
            "84\n",
            "87\n",
            "90\n",
            "93\n",
            "96\n",
            "99\n"
          ]
        }
      ]
    },
    {
      "cell_type": "code",
      "source": [
        "# Solicitar dos números al usuario\n",
        "numi = int(input(\"Introduce el primer número: \"))\n",
        "num2 = int(input(\"Introduce el segundo número: \"))\n",
        "\n",
        "# Sumar los dos números\n",
        "resultado = numi + num2\n",
        "\n",
        "# Verificar el rango del resultado y mostrar el mensaje correspondiente\n",
        "if resultado < 100:\n",
        "    print(\"El resultado es menor a 100\")\n",
        "elif 100 <= resultado < 150:\n",
        "    print(\"El resultado es mayor a 100 pero menor a 150\")\n",
        "else:\n",
        "    print(\"El resultado es mayor a 150\")\n"
      ],
      "metadata": {
        "colab": {
          "base_uri": "https://localhost:8080/"
        },
        "id": "DYyw6LzHlsEt",
        "outputId": "691f5497-14d5-47a2-bbc8-17d220bf8e2d"
      },
      "execution_count": 6,
      "outputs": [
        {
          "output_type": "stream",
          "name": "stdout",
          "text": [
            "Introduce el primer número: 21\n",
            "Introduce el segundo número: 8\n",
            "El resultado es menor a 100\n"
          ]
        }
      ]
    },
    {
      "cell_type": "code",
      "source": [
        "# Función que evalúa la edad y si le gusta la programación\n",
        "def evaluar_usuario():\n",
        "    # Solicitar edad y convertir a entero\n",
        "    edad = int(input(\"¿Cuántos años tienes?: \"))\n",
        "\n",
        "    # Solicitar si le gusta la programación\n",
        "    gusta_programacion = input(\"¿Te gusta la programación? (sí/no): \").lower()\n",
        "\n",
        "    # Condicional para evaluar la edad y el gusto por la programación\n",
        "    if edad >= 18:\n",
        "        if gusta_programacion == \"sí\":\n",
        "            print(\"Eres mayor de edad y te gusta la programación. ¡Prueba nuevos aprendizajes\")\n",
        "        else:\n",
        "            print(\"Eres mayor de edad, pero no te gusta la programación.Menos mal, soy una maquina y tampoco me gusta\")\n",
        "    else:\n",
        "        if gusta_programacion == \"sí\":\n",
        "            print(\"Eres menor de edad y ya te gusta la programación. Tipico de las nuevas generaciones\")\n",
        "        else:\n",
        "            print(\"Eres menor de edad y no te gusta la programación. Disfruta la juventud!\")\n",
        "\n",
        "# Llamar a la función\n",
        "evaluar_usuario()\n"
      ],
      "metadata": {
        "colab": {
          "base_uri": "https://localhost:8080/"
        },
        "id": "BKR6UkEYl3lk",
        "outputId": "82e91ca6-b5e3-40ea-8276-798784bb2146"
      },
      "execution_count": 8,
      "outputs": [
        {
          "output_type": "stream",
          "name": "stdout",
          "text": [
            "¿Cuántos años tienes?: 21\n",
            "¿Te gusta la programación? (sí/no): no\n",
            "Eres mayor de edad, pero no te gusta la programación.Menos mal, soy una maquina y tampoco me gusta\n"
          ]
        }
      ]
    },
    {
      "cell_type": "code",
      "source": [],
      "metadata": {
        "id": "8qkWnGdJm3EG"
      },
      "execution_count": null,
      "outputs": []
    }
  ]
}